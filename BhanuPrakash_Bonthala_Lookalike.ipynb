{
 "cells": [
  {
   "cell_type": "code",
   "execution_count": 34,
   "id": "ef86351b",
   "metadata": {},
   "outputs": [],
   "source": [
    "import pandas as pd\n",
    "from sklearn.metrics.pairwise import cosine_similarity\n",
    "from sklearn.preprocessing import MinMaxScaler\n"
   ]
  },
  {
   "cell_type": "code",
   "execution_count": 35,
   "id": "7903499d",
   "metadata": {},
   "outputs": [
    {
     "name": "stdout",
     "output_type": "stream",
     "text": [
      "  CustomerID        CustomerName         Region  SignupDate\n",
      "0      C0001    Lawrence Carroll  South America  2022-07-10\n",
      "1      C0002      Elizabeth Lutz           Asia  2022-02-13\n",
      "2      C0003      Michael Rivera  South America  2024-03-07\n",
      "3      C0004  Kathleen Rodriguez  South America  2022-10-09\n",
      "4      C0005         Laura Weber           Asia  2022-08-15\n",
      "  ProductID              ProductName     Category   Price\n",
      "0      P001     ActiveWear Biography        Books  169.30\n",
      "1      P002    ActiveWear Smartwatch  Electronics  346.30\n",
      "2      P003  ComfortLiving Biography        Books   44.12\n",
      "3      P004            BookWorld Rug   Home Decor   95.69\n",
      "4      P005          TechPro T-Shirt     Clothing  429.31\n",
      "  TransactionID CustomerID ProductID      TransactionDate  Quantity  \\\n",
      "0        T00001      C0199      P067  2024-08-25 12:38:23         1   \n",
      "1        T00112      C0146      P067  2024-05-27 22:23:54         1   \n",
      "2        T00166      C0127      P067  2024-04-25 07:38:55         1   \n",
      "3        T00272      C0087      P067  2024-03-26 22:55:37         2   \n",
      "4        T00363      C0070      P067  2024-03-21 15:10:10         3   \n",
      "\n",
      "   TotalValue   Price  \n",
      "0      300.68  300.68  \n",
      "1      300.68  300.68  \n",
      "2      300.68  300.68  \n",
      "3      601.36  300.68  \n",
      "4      902.04  300.68  \n"
     ]
    }
   ],
   "source": [
    "customers = pd.read_csv('Customers.csv')\n",
    "products = pd.read_csv('Products.csv')\n",
    "transactions = pd.read_csv('Transactions.csv')\n",
    "\n",
    "print(customers.head())\n",
    "print(products.head())\n",
    "print(transactions.head())\n"
   ]
  },
  {
   "cell_type": "code",
   "execution_count": 36,
   "id": "ad639da1",
   "metadata": {},
   "outputs": [
    {
     "name": "stdout",
     "output_type": "stream",
     "text": [
      "  CustomerID  TotalSpending  TotalQuantity  NumTransactions\n",
      "0      C0001        3354.52             12                5\n",
      "1      C0002        1862.74             10                4\n",
      "2      C0003        2725.38             14                4\n",
      "3      C0004        5354.88             23                8\n",
      "4      C0005        2034.24              7                3\n"
     ]
    }
   ],
   "source": [
    "transaction_features = transactions.groupby('CustomerID').agg(\n",
    "    TotalSpending=('TotalValue', 'sum'),\n",
    "    TotalQuantity=('Quantity', 'sum'),\n",
    "    NumTransactions=('TransactionID', 'count')\n",
    ").reset_index()\n",
    "\n",
    "print(transaction_features.head())\n"
   ]
  },
  {
   "cell_type": "code",
   "execution_count": 37,
   "id": "7ee8c92e",
   "metadata": {},
   "outputs": [
    {
     "name": "stdout",
     "output_type": "stream",
     "text": [
      "  CustomerID        CustomerName         Region  DaysSinceSignup\n",
      "0      C0001    Lawrence Carroll  South America              929\n",
      "1      C0002      Elizabeth Lutz           Asia             1076\n",
      "2      C0003      Michael Rivera  South America              323\n",
      "3      C0004  Kathleen Rodriguez  South America              838\n",
      "4      C0005         Laura Weber           Asia              893\n"
     ]
    }
   ],
   "source": [
    "customers['SignupDate'] = pd.to_datetime(customers['SignupDate'])\n",
    "customers['DaysSinceSignup'] = (pd.Timestamp.now() - customers['SignupDate']).dt.days\n",
    "customers.drop(columns=['SignupDate'], inplace=True)\n",
    "\n",
    "print(customers.head())\n"
   ]
  },
  {
   "cell_type": "code",
   "execution_count": 38,
   "id": "8f0feec2",
   "metadata": {},
   "outputs": [
    {
     "name": "stdout",
     "output_type": "stream",
     "text": [
      "  CustomerID        CustomerName         Region  DaysSinceSignup  \\\n",
      "0      C0001    Lawrence Carroll  South America              929   \n",
      "1      C0002      Elizabeth Lutz           Asia             1076   \n",
      "2      C0003      Michael Rivera  South America              323   \n",
      "3      C0004  Kathleen Rodriguez  South America              838   \n",
      "4      C0005         Laura Weber           Asia              893   \n",
      "\n",
      "   TotalSpending  TotalQuantity  NumTransactions  \n",
      "0        3354.52           12.0              5.0  \n",
      "1        1862.74           10.0              4.0  \n",
      "2        2725.38           14.0              4.0  \n",
      "3        5354.88           23.0              8.0  \n",
      "4        2034.24            7.0              3.0  \n"
     ]
    }
   ],
   "source": [
    "data = pd.merge(customers, transaction_features, on='CustomerID', how='left')\n",
    "\n",
    "data.fillna({'TotalSpending': 0, 'TotalQuantity': 0, 'NumTransactions': 0}, inplace=True)\n",
    "\n",
    "print(data.head())\n"
   ]
  },
  {
   "cell_type": "code",
   "execution_count": 39,
   "id": "3561eff9",
   "metadata": {},
   "outputs": [
    {
     "name": "stdout",
     "output_type": "stream",
     "text": [
      "  CustomerID  TotalSpending  TotalQuantity  NumTransactions  DaysSinceSignup\n",
      "0      C0001       0.314274        0.37500         0.454545         0.842204\n",
      "1      C0002       0.174514        0.31250         0.363636         0.979458\n",
      "2      C0003       0.255332        0.43750         0.363636         0.276377\n",
      "3      C0004       0.501681        0.71875         0.727273         0.757236\n",
      "4      C0005       0.190581        0.21875         0.272727         0.808590\n"
     ]
    }
   ],
   "source": [
    "data = pd.get_dummies(data, columns=['Region'], drop_first=True)\n",
    "\n",
    "scaler = MinMaxScaler()\n",
    "features = ['TotalSpending', 'TotalQuantity', 'NumTransactions', 'DaysSinceSignup']\n",
    "data_scaled = pd.DataFrame(scaler.fit_transform(data[features]), columns=features)\n",
    "\n",
    "data_scaled = pd.concat([data['CustomerID'], data_scaled], axis=1)\n",
    "\n",
    "print(data_scaled.head())\n"
   ]
  },
  {
   "cell_type": "code",
   "execution_count": 40,
   "id": "24260716",
   "metadata": {},
   "outputs": [
    {
     "name": "stdout",
     "output_type": "stream",
     "text": [
      "CustomerID     C0001     C0002     C0003     C0004     C0005     C0006  \\\n",
      "CustomerID                                                               \n",
      "C0001       1.000000  0.979079  0.876199  0.949281  0.977401  0.899147   \n",
      "C0002       0.979079  1.000000  0.775564  0.872770  0.997354  0.793512   \n",
      "C0003       0.876199  0.775564  1.000000  0.982234  0.759670  0.976013   \n",
      "C0004       0.949281  0.872770  0.982234  1.000000  0.862698  0.979253   \n",
      "C0005       0.977401  0.997354  0.759670  0.862698  1.000000  0.793198   \n",
      "\n",
      "CustomerID     C0007     C0008     C0009     C0010  ...     C0191     C0192  \\\n",
      "CustomerID                                          ...                       \n",
      "C0001       0.979250  0.800828  0.969749  0.991004  ...  0.862612  0.991270   \n",
      "C0002       0.994364  0.680713  0.979502  0.981261  ...  0.749103  0.995565   \n",
      "C0003       0.769414  0.958622  0.766840  0.878047  ...  0.980063  0.810363   \n",
      "C0004       0.869371  0.935458  0.870487  0.943591  ...  0.971459  0.902858   \n",
      "C0005       0.998916  0.660451  0.976341  0.970985  ...  0.736749  0.994035   \n",
      "\n",
      "CustomerID     C0193     C0194     C0195     C0196     C0197     C0198  \\\n",
      "CustomerID                                                               \n",
      "C0001       0.997668  0.796157  0.702782  0.987322  0.996319  0.899849   \n",
      "C0002       0.965751  0.666649  0.554251  0.959367  0.988461  0.965313   \n",
      "C0003       0.903656  0.959255  0.948862  0.860244  0.859381  0.586228   \n",
      "C0004       0.965689  0.935042  0.889181  0.933592  0.934032  0.719018   \n",
      "C0005       0.963629  0.651965  0.536999  0.967487  0.984767  0.971304   \n",
      "\n",
      "CustomerID     C0199     C0200  \n",
      "CustomerID                      \n",
      "C0001       0.996137  0.942418  \n",
      "C0002       0.990840  0.858822  \n",
      "C0003       0.846000  0.976530  \n",
      "C0004       0.927481  0.993595  \n",
      "C0005       0.986338  0.855697  \n",
      "\n",
      "[5 rows x 200 columns]\n"
     ]
    }
   ],
   "source": [
    "similarity_matrix = cosine_similarity(data_scaled.iloc[:, 1:])\n",
    "\n",
    "similarity_df = pd.DataFrame(similarity_matrix, index=data['CustomerID'], columns=data['CustomerID'])\n",
    "\n",
    "print(similarity_df.head())\n"
   ]
  },
  {
   "cell_type": "code",
   "execution_count": 41,
   "id": "4860a34d",
   "metadata": {},
   "outputs": [
    {
     "name": "stdout",
     "output_type": "stream",
     "text": [
      "                        Lookalike1                   Lookalike2  \\\n",
      "C0001  (C0125, 0.9996682100889586)  (C0063, 0.9982592304498485)   \n",
      "C0002  (C0029, 0.9997068482550491)  (C0062, 0.9987776005665663)   \n",
      "C0003   (C0075, 0.998731598604879)  (C0110, 0.9931645622444079)   \n",
      "C0004  (C0175, 0.9991876508394796)  (C0165, 0.9984434913312458)   \n",
      "C0005   (C0112, 0.999520405397267)  (C0159, 0.9995202179359585)   \n",
      "C0006  (C0170, 0.9989884425797053)  (C0163, 0.9980175365428656)   \n",
      "C0007  (C0080, 0.9994021824291331)  (C0074, 0.9992279323167407)   \n",
      "C0008  (C0047, 0.9985100976458368)  (C0194, 0.9960128360274051)   \n",
      "C0009  (C0103, 0.9951732890322363)  (C0014, 0.9900004782420874)   \n",
      "C0010   (C0134, 0.998801336349185)  (C0160, 0.9970686861496437)   \n",
      "C0011   (C0122, 0.999476653644304)  (C0107, 0.9994238776112156)   \n",
      "C0012  (C0065, 0.9996872235330286)  (C0057, 0.9993561319202272)   \n",
      "C0013   (C0059, 0.999906080335531)  (C0085, 0.9989533925327435)   \n",
      "C0014  (C0025, 0.9968919556173951)  (C0199, 0.9966433250916736)   \n",
      "C0015  (C0192, 0.9994610325751687)  (C0123, 0.9990482227587393)   \n",
      "C0016  (C0021, 0.9971286410634747)   (C0183, 0.996553126116912)   \n",
      "C0017  (C0190, 0.9984408197987747)  (C0036, 0.9983909379047516)   \n",
      "C0018  (C0028, 0.9965971643816574)  (C0138, 0.9946404568524218)   \n",
      "C0019  (C0161, 0.9991203205775979)   (C0088, 0.998961566687023)   \n",
      "C0020  (C0193, 0.9982423588952736)  (C0125, 0.9978791406475037)   \n",
      "\n",
      "                        Lookalike3  \n",
      "C0001  (C0106, 0.9979496596452181)  \n",
      "C0002   (C0166, 0.998699681325713)  \n",
      "C0003  (C0036, 0.9926814187713708)  \n",
      "C0004   (C0169, 0.997991545871393)  \n",
      "C0005  (C0131, 0.9993811439772363)  \n",
      "C0006  (C0050, 0.9965939456443403)  \n",
      "C0007  (C0159, 0.9990559833946644)  \n",
      "C0008  (C0024, 0.9951368980919232)  \n",
      "C0009    (C0025, 0.98885120371466)  \n",
      "C0010  (C0027, 0.9966635124891629)  \n",
      "C0011  (C0153, 0.9988794883284347)  \n",
      "C0012  (C0028, 0.9984381016330353)  \n",
      "C0013  (C0143, 0.9974003423701653)  \n",
      "C0014  (C0192, 0.9965602060680722)  \n",
      "C0015  (C0152, 0.9989465767433746)  \n",
      "C0016  (C0022, 0.9957524022282774)  \n",
      "C0017  (C0081, 0.9981910134656699)  \n",
      "C0018  (C0143, 0.9941232080085864)  \n",
      "C0019  (C0147, 0.9981196570361758)  \n",
      "C0020  (C0153, 0.9978296245418298)  \n"
     ]
    }
   ],
   "source": [
    "lookalike_map = {}\n",
    "for customer_id in data['CustomerID'][:20]:\n",
    "    similar_customers = similarity_df[customer_id].sort_values(ascending=False)[1:4]\n",
    "    lookalike_map[customer_id] = list(zip(similar_customers.index, similar_customers.values))\n",
    "    \n",
    "lookalike_df = pd.DataFrame.from_dict(lookalike_map, orient='index', columns=['Lookalike1', 'Lookalike2', 'Lookalike3'])\n",
    "print(lookalike_df)\n"
   ]
  },
  {
   "cell_type": "code",
   "execution_count": 42,
   "id": "26baa109",
   "metadata": {},
   "outputs": [
    {
     "name": "stdout",
     "output_type": "stream",
     "text": [
      "Lookalike.csv saved successfully!\n"
     ]
    }
   ],
   "source": [
    "lookalike_df.to_csv('Lookalike.csv', index_label='CustomerID')\n",
    "print(\"Lookalike.csv saved successfully!\")"
   ]
  },
  {
   "cell_type": "code",
   "execution_count": null,
   "id": "bbeccec7",
   "metadata": {},
   "outputs": [],
   "source": []
  }
 ],
 "metadata": {
  "kernelspec": {
   "display_name": "Python 3 (ipykernel)",
   "language": "python",
   "name": "python3"
  },
  "language_info": {
   "codemirror_mode": {
    "name": "ipython",
    "version": 3
   },
   "file_extension": ".py",
   "mimetype": "text/x-python",
   "name": "python",
   "nbconvert_exporter": "python",
   "pygments_lexer": "ipython3",
   "version": "3.11.3"
  }
 },
 "nbformat": 4,
 "nbformat_minor": 5
}
